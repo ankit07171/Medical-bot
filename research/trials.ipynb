{
 "cells": [
  {
   "cell_type": "code",
   "execution_count": null,
   "id": "896472b6",
   "metadata": {},
   "outputs": [],
   "source": [
    "import os \n",
    "os.chdir(\"../\")"
   ]
  },
  {
   "cell_type": "code",
   "execution_count": 8,
   "id": "f6b29791",
   "metadata": {},
   "outputs": [
    {
     "data": {
      "text/plain": [
       "'c:\\\\Ankit\\\\cd\\\\fastApi\\\\Medical-bot'"
      ]
     },
     "execution_count": 8,
     "metadata": {},
     "output_type": "execute_result"
    }
   ],
   "source": [
    "pwd"
   ]
  },
  {
   "cell_type": "code",
   "execution_count": null,
   "id": "e08b7c8c",
   "metadata": {},
   "outputs": [],
   "source": [
    "from langchain.document_loaders import PyPDFLoader, DirectoryLoader\n",
    "from langchain.text_splitter import RecursiveCharacterTextSplitter"
   ]
  },
  {
   "cell_type": "code",
   "execution_count": null,
   "id": "2bd0d6ee",
   "metadata": {},
   "outputs": [],
   "source": []
  },
  {
   "cell_type": "code",
   "execution_count": 2,
   "id": "18cee2a2",
   "metadata": {},
   "outputs": [],
   "source": [
    "def load_pdf(data):\n",
    "    loader = DirectoryLoader(\n",
    "        data,\n",
    "        glob = \"*.pdf\",\n",
    "        loader_cls=PyPDFLoader\n",
    "    )\n",
    "    documents = loader.load()\n",
    "    return documents"
   ]
  },
  {
   "cell_type": "code",
   "execution_count": 10,
   "id": "c95b5702",
   "metadata": {},
   "outputs": [
    {
     "data": {
      "text/plain": [
       "8"
      ]
     },
     "execution_count": 10,
     "metadata": {},
     "output_type": "execute_result"
    }
   ],
   "source": [
    "extracted_text = load_pdf(\"data\")\n",
    "len(extracted_text)"
   ]
  },
  {
   "cell_type": "code",
   "execution_count": 11,
   "id": "26472c64",
   "metadata": {},
   "outputs": [
    {
     "data": {
      "text/plain": [
       "[Document(metadata={'producer': 'Microsoft® Word for Microsoft 365', 'creator': 'Microsoft® Word for Microsoft 365', 'creationdate': '2025-07-29T21:19:21+05:30', 'author': 'cmpn- staff 2', 'moddate': '2025-07-29T21:19:21+05:30', 'source': 'data\\\\a.pdf', 'total_pages': 8, 'page': 0, 'page_label': '1'}, page_content='Experiment 01 \\nLearning Objective: Student should be able to apply Assembly Language Programing to enter \\nand display 8 bit & 16 bits number  \\n \\nTools: TASM/MASM \\n \\n Theory:  \\nAssembler Directives :- \\nThis type of statements includes commands that are addressed to the assembler, such as: \\nConstant and variable definition. \\nAllocation of memory space and initialization of memory, and \\nControl of the assembly process \\n \\nList of assembler directives \\na. Data Allocation Directives \\nDB…………..define byte \\nDW………….define word (2 bytes) \\nDD………….define double word (4 bytes) \\nDQ………….define quadword (8 bytes) \\nDT…………..define tenbytes  \\nEQU…………equate, assign numeric expression to a name \\n    Examples:3 \\n          db         100 dup (?)      define 100 bytes, with no initial values for bytes \\n          db        “Hello” define 5 bytes, ASCII equivalent of “Hello”. \\n          maxint equ 327673 \\n          count equ 10 * 20       ; calculate a value (200) \\nENDS…………used to indicate the end of the segment. \\nEND…………. used to indicate the end of program. \\nPROC……........used to indicate the beginning of a procedure. \\nENDP……….. .used to indicate the end of a program.  \\nENDM………. used to indicate the end of a program.  \\nSEGMENT…...used to indicate the start of the segment. \\nTITLE…………used to indicate the title of the program. \\nEQU …………..used to give a name to some value or to a symbol. Each time the assembler \\nfinds the name in the program, it will replace the name with the value or symbol you given to \\nthat name. \\nASSUME…….. Associates a logical segment to processor segment. \\ne.g. Example: \\nASSUME CS:CODE ; \\n \\nTASM COMMANDS: \\nC :/>cd foldername  \\nC:/foldername>edit filename.asm  \\n After this command executed in command prompt an editor window will open. Program \\nshould be typed in this window and saved. The program structure is given below.'),\n",
       " Document(metadata={'producer': 'Microsoft® Word for Microsoft 365', 'creator': 'Microsoft® Word for Microsoft 365', 'creationdate': '2025-07-29T21:19:21+05:30', 'author': 'cmpn- staff 2', 'moddate': '2025-07-29T21:19:21+05:30', 'source': 'data\\\\a.pdf', 'total_pages': 8, 'page': 1, 'page_label': '2'}, page_content='Structure of Program: \\n.model tiny/small/medium/large \\n.Stack <some number> \\n.data \\n ; Initialize data. \\n.code \\n.startup \\n ; Program logic goes here. \\n.exit \\nEnd \\n \\nTo run the program, the following steps have to be followed: \\nC:/foldername>Tasm filename.asm \\n After this command is executed in command prompt if there are no errors in program \\nregarding to syntax the assembler will generates an object module as discuss above. \\nC:/foldername>Tlink filename.obj \\n After verifying the program for correct syntax and the generated object files should be \\nlinked together. For this the above link command should be executed and it will give an EXE file \\nif the model directive is small as discuss above. \\nC:/foldername>td filename.exe \\n After generating EXE file by the assembler it’s the time to check the output. For this the \\nabove command is used and the execution of the program can be done in different ways. It is as \\nshown below: \\n__ g ; complete execution of program in single step. \\n__ t ; Stepwise execution. \\n__d ds: starting address or ending address ; To see data in memory locations \\n__p; Used to execute interrupt or procedure during stepwise execution of program \\n__ q ; To quit the execution. \\n \\n5. Procedure/ Algorithm \\nProgram to accept 8 bit number and display 8 bit number  \\nExplanation: Conversions from ASCII to binary usually start with keyboard data entry. If a single \\nkey is typed the conversion is accomplished by subtracting a 30H from the number. If more than \\none key is typed, conversion from ASCII to binary still requires that 30H be subtracted, but there \\nis one additional step. After subtracting 30H, the prior result is first multip lied by 10, the number \\nis added to the result. The algorithm used to convert ASCII to binary is: \\n1. Begin with a binary result of 0.  \\n2. Subtract 30H from the character typed on the keyboard to convert it to BCD. \\n3. Multiply the binary result by 10 and add the new BCD digit. \\n4. Repeat steps 2 and 3 until the character typed is not an ASCII coded number of 30H -\\n39H. \\n \\n \\nFunctions and Interrupts:'),\n",
       " Document(metadata={'producer': 'Microsoft® Word for Microsoft 365', 'creator': 'Microsoft® Word for Microsoft 365', 'creationdate': '2025-07-29T21:19:21+05:30', 'author': 'cmpn- staff 2', 'moddate': '2025-07-29T21:19:21+05:30', 'source': 'data\\\\a.pdf', 'total_pages': 8, 'page': 2, 'page_label': '3'}, page_content='1. Display message on screen. \\nMov ah,09 \\nLea dx, msg \\nInt 21h \\n2. Enter single char from user. \\nMov Ah,01 \\nInt 21h \\nReturn : AL= ASCII value \\n3. Display single char on screen. \\nMov Ah,02 \\nInt 21h \\n \\nApplication:  \\n1. Conversion from ASCII to BCD \\n2. Conversion  from BCD to ASCII  \\nDesign:  \\n1) Explanation for displaying 8 bit number: \\n; 8086 Assembly Program to read an 8-bit number and display it \\n; Only supports digits 0–9, not A–F for hex input \\n.model small \\n.data \\nmsg1 db 10,13,\"Enter 8 bit no:$\"    ; Message 1 \\nmsg2 db 10,13,\"8 bit no is:$\"       ; Message 2 \\n.code \\n.startup                           ; Initializes DS = Data Segment \\n \\n; Display msg1: \"Enter 8 bit no:\" \\nmov ah,09h \\nlea dx,msg1 \\nint 21h \\n \\n; Input first digit (high nibble) \\nmov ah,01h \\nint 21h            ; AL = ASCII input \\nsub al,30h         ; Convert ASCII to number (0–9) \\nmov cl,04h         ; Shift amount = 4 bits \\nshl al,cl          ; Shift left to make it high nibble \\nmov bl,al          ; Store in BL \\n; Input second digit (low nibble) \\nmov ah,01h \\nint 21h \\nsub al,30h         ; Convert ASCII to number \\nadd al,bl          ; Combine high and low nibble \\nmov bh,al          ; Store full 8-bit value in BH'),\n",
       " Document(metadata={'producer': 'Microsoft® Word for Microsoft 365', 'creator': 'Microsoft® Word for Microsoft 365', 'creationdate': '2025-07-29T21:19:21+05:30', 'author': 'cmpn- staff 2', 'moddate': '2025-07-29T21:19:21+05:30', 'source': 'data\\\\a.pdf', 'total_pages': 8, 'page': 3, 'page_label': '4'}, page_content='; Display msg2: \"8 bit no is:\" \\nmov ah,09h \\nlea dx,msg2 \\nint 21h \\n \\n; Extract and print high nibble \\nmov bl,bh \\nand bl,0f0h        ; Mask low nibble \\nshr bl,cl          ; Shift high nibble to lower bits \\nadd bl,30h         ; Convert to ASCII (\\'0\\'-\\'9\\') \\nmov dl,bl \\nmov ah,02h \\nint 21h            ; Print high nibble \\n \\n; Extract and print low nibble \\nmov bl,bh \\nand bl,0fh         ; Mask high nibble \\nadd bl,30h         ; Convert to ASCII (\\'0\\'-\\'9\\') \\nmov dl,bl \\nmov ah,02h \\nint 21h            ; Print low nibble \\n.exit              ; Terminate program \\nEnd \\n2) Explanation for displaying 16 bit number: \\n; 8086 Assembly: Read a 16-bit hex number (only digits 0–9) and display it \\n.model small \\n.data \\nmsg1 dw 10,13,\"Enter 16 bit no:$\"   ; Prompt message \\nmsg2 dw 10,13,\"16 bit no is:$\"      ; Output message \\n.code \\n.startup                            ; Sets DS = @data automatically \\n; ----- Print prompt message ----- \\nmov ah,09h \\nlea dx,msg1 \\nint 21h \\n; ----- Read first hex digit (high nibble of high byte) ----- \\nmov ah,01h \\nint 21h \\nsub al,30h              ; Convert ASCII to numeric \\nmov cl,04h \\nshl al,cl               ; Shift left to make high nibble \\nmov bh,al               ; Store in BH temporarily \\n; ----- Read second hex digit (low nibble of high byte) ----- \\nmov ah,01h \\nint 21h'),\n",
       " Document(metadata={'producer': 'Microsoft® Word for Microsoft 365', 'creator': 'Microsoft® Word for Microsoft 365', 'creationdate': '2025-07-29T21:19:21+05:30', 'author': 'cmpn- staff 2', 'moddate': '2025-07-29T21:19:21+05:30', 'source': 'data\\\\a.pdf', 'total_pages': 8, 'page': 4, 'page_label': '5'}, page_content=\"sub al,30h \\nadd bh,al               ; Combine to form full high byte (BH) \\n; ----- Read third hex digit (high nibble of low byte) ----- \\nmov ah,01h \\nint 21h \\nsub al,30h \\nmov cl,04h \\nshl al,cl               ; Shift left to make high nibble \\nmov bl,al               ; Store in BL temporarily \\n; ----- Read fourth hex digit (low nibble of low byte) ----- \\nmov ah,01h \\nint 21h \\nsub al,30h \\nadd bl,al               ; Combine to form full low byte (BL) \\n; ----- Print output message ----- \\nmov ah,09h \\nlea dx,msg2 \\nint 21h \\n; ----- Display high byte (BH) ----- \\nmov ch,bh \\nand ch,0f0h             ; Mask low nibble \\nmov cl,04h \\nshr ch,cl               ; Shift high nibble to right \\nadd ch,30h              ; Convert to ASCII ('0'-'9') \\nmov dl,ch \\nmov ah,02h \\nint 21h                 ; Display high nibble of BH \\nmov ch,bh \\nand ch,0fh              ; Mask high nibble \\nadd ch,30h              ; Convert to ASCII \\nmov dl,ch \\nmov ah,02h \\nint 21h                 ; Display low nibble of BH \\n; ----- Display low byte (BL) ----- \\nmov dh,bl \\nand dh,0f0h             ; Mask low nibble \\nmov cl,04h \\nshr dh,cl               ; Shift high nibble to right \\nadd dh,30h              ; Convert to ASCII \\nmov dl,dh \\nmov ah,02h \\nint 21h                 ; Display high nibble of BL \\nmov dh,bl \\nand dh,0fh              ; Mask high nibble \\nadd dh,30h              ; Convert to ASCII \\nmov dl,dh\"),\n",
       " Document(metadata={'producer': 'Microsoft® Word for Microsoft 365', 'creator': 'Microsoft® Word for Microsoft 365', 'creationdate': '2025-07-29T21:19:21+05:30', 'author': 'cmpn- staff 2', 'moddate': '2025-07-29T21:19:21+05:30', 'source': 'data\\\\a.pdf', 'total_pages': 8, 'page': 5, 'page_label': '6'}, page_content='mov ah,02h \\nint 21h                 ; Display low nibble of BL \\n.exit                   ; Exit to DOS \\nEnd \\nResult and Discussion:  \\n1) For 8 bit no:'),\n",
       " Document(metadata={'producer': 'Microsoft® Word for Microsoft 365', 'creator': 'Microsoft® Word for Microsoft 365', 'creationdate': '2025-07-29T21:19:21+05:30', 'author': 'cmpn- staff 2', 'moddate': '2025-07-29T21:19:21+05:30', 'source': 'data\\\\a.pdf', 'total_pages': 8, 'page': 6, 'page_label': '7'}, page_content='2) For 16 bit number:'),\n",
       " Document(metadata={'producer': 'Microsoft® Word for Microsoft 365', 'creator': 'Microsoft® Word for Microsoft 365', 'creationdate': '2025-07-29T21:19:21+05:30', 'author': 'cmpn- staff 2', 'moddate': '2025-07-29T21:19:21+05:30', 'source': 'data\\\\a.pdf', 'total_pages': 8, 'page': 7, 'page_label': '8'}, page_content='Learning Outcomes: \\n \\nThe student should have the ability to  \\nLO1 List the features of Assembly language. \\nLO2 Identify the role of translator in programming language. \\nLO3 List and define the assemble directives. \\nLO4 Implement a basic program using assembly language features. \\n \\nCourse Outcomes : Upon completion of the course students will be able to make use of \\ninstructions of 8086 to build assembly and Mixed language programs. \\n \\nConclusion: \\n \\n \\n \\n \\n \\n \\n \\n \\n \\n \\n \\n \\n \\nFor Faculty Use \\nCorrection \\nParameters  \\nFormative \\nAssessment \\n[40%] \\nTimely completion \\nof Practical [ 40%] \\nAttendance /Learning \\nAttitude [20%] \\nMarks Obtained')]"
      ]
     },
     "execution_count": 11,
     "metadata": {},
     "output_type": "execute_result"
    }
   ],
   "source": [
    "extracted_text"
   ]
  },
  {
   "cell_type": "code",
   "execution_count": null,
   "id": "d933a838",
   "metadata": {},
   "outputs": [],
   "source": [
    "from typing import List\n",
    "from langchain.schema import Document\n",
    "def filter_to_minimal_docs (docs: List [Document]) -> List [Document]:\n",
    "    \"\"\"\n",
    "    Given a list of Document objects, return a new list of Document objects\n",
    "    containing only 'source' in metadata and the original page content.\n",
    "    \"\"\"\n",
    "    minimal_docs: List[Document] = []\n",
    "    for doc in docs:\n",
    "        src = doc.metadata.get(\"source\")\n",
    "        minimal_docs.append( Document(\n",
    "            page_content=doc.page_content,\n",
    "            metadata={\"source\": src}\n",
    "            ))\n",
    "    return minimal_docs"
   ]
  },
  {
   "cell_type": "code",
   "execution_count": 16,
   "id": "7c2dbee5",
   "metadata": {},
   "outputs": [
    {
     "data": {
      "text/plain": [
       "[Document(metadata={'source': 'data\\\\a.pdf'}, page_content='Experiment 01 \\nLearning Objective: Student should be able to apply Assembly Language Programing to enter \\nand display 8 bit & 16 bits number  \\n \\nTools: TASM/MASM \\n \\n Theory:  \\nAssembler Directives :- \\nThis type of statements includes commands that are addressed to the assembler, such as: \\nConstant and variable definition. \\nAllocation of memory space and initialization of memory, and \\nControl of the assembly process \\n \\nList of assembler directives \\na. Data Allocation Directives \\nDB…………..define byte \\nDW………….define word (2 bytes) \\nDD………….define double word (4 bytes) \\nDQ………….define quadword (8 bytes) \\nDT…………..define tenbytes  \\nEQU…………equate, assign numeric expression to a name \\n    Examples:3 \\n          db         100 dup (?)      define 100 bytes, with no initial values for bytes \\n          db        “Hello” define 5 bytes, ASCII equivalent of “Hello”. \\n          maxint equ 327673 \\n          count equ 10 * 20       ; calculate a value (200) \\nENDS…………used to indicate the end of the segment. \\nEND…………. used to indicate the end of program. \\nPROC……........used to indicate the beginning of a procedure. \\nENDP……….. .used to indicate the end of a program.  \\nENDM………. used to indicate the end of a program.  \\nSEGMENT…...used to indicate the start of the segment. \\nTITLE…………used to indicate the title of the program. \\nEQU …………..used to give a name to some value or to a symbol. Each time the assembler \\nfinds the name in the program, it will replace the name with the value or symbol you given to \\nthat name. \\nASSUME…….. Associates a logical segment to processor segment. \\ne.g. Example: \\nASSUME CS:CODE ; \\n \\nTASM COMMANDS: \\nC :/>cd foldername  \\nC:/foldername>edit filename.asm  \\n After this command executed in command prompt an editor window will open. Program \\nshould be typed in this window and saved. The program structure is given below.'),\n",
       " Document(metadata={'source': 'data\\\\a.pdf'}, page_content='Structure of Program: \\n.model tiny/small/medium/large \\n.Stack <some number> \\n.data \\n ; Initialize data. \\n.code \\n.startup \\n ; Program logic goes here. \\n.exit \\nEnd \\n \\nTo run the program, the following steps have to be followed: \\nC:/foldername>Tasm filename.asm \\n After this command is executed in command prompt if there are no errors in program \\nregarding to syntax the assembler will generates an object module as discuss above. \\nC:/foldername>Tlink filename.obj \\n After verifying the program for correct syntax and the generated object files should be \\nlinked together. For this the above link command should be executed and it will give an EXE file \\nif the model directive is small as discuss above. \\nC:/foldername>td filename.exe \\n After generating EXE file by the assembler it’s the time to check the output. For this the \\nabove command is used and the execution of the program can be done in different ways. It is as \\nshown below: \\n__ g ; complete execution of program in single step. \\n__ t ; Stepwise execution. \\n__d ds: starting address or ending address ; To see data in memory locations \\n__p; Used to execute interrupt or procedure during stepwise execution of program \\n__ q ; To quit the execution. \\n \\n5. Procedure/ Algorithm \\nProgram to accept 8 bit number and display 8 bit number  \\nExplanation: Conversions from ASCII to binary usually start with keyboard data entry. If a single \\nkey is typed the conversion is accomplished by subtracting a 30H from the number. If more than \\none key is typed, conversion from ASCII to binary still requires that 30H be subtracted, but there \\nis one additional step. After subtracting 30H, the prior result is first multip lied by 10, the number \\nis added to the result. The algorithm used to convert ASCII to binary is: \\n1. Begin with a binary result of 0.  \\n2. Subtract 30H from the character typed on the keyboard to convert it to BCD. \\n3. Multiply the binary result by 10 and add the new BCD digit. \\n4. Repeat steps 2 and 3 until the character typed is not an ASCII coded number of 30H -\\n39H. \\n \\n \\nFunctions and Interrupts:'),\n",
       " Document(metadata={'source': 'data\\\\a.pdf'}, page_content='1. Display message on screen. \\nMov ah,09 \\nLea dx, msg \\nInt 21h \\n2. Enter single char from user. \\nMov Ah,01 \\nInt 21h \\nReturn : AL= ASCII value \\n3. Display single char on screen. \\nMov Ah,02 \\nInt 21h \\n \\nApplication:  \\n1. Conversion from ASCII to BCD \\n2. Conversion  from BCD to ASCII  \\nDesign:  \\n1) Explanation for displaying 8 bit number: \\n; 8086 Assembly Program to read an 8-bit number and display it \\n; Only supports digits 0–9, not A–F for hex input \\n.model small \\n.data \\nmsg1 db 10,13,\"Enter 8 bit no:$\"    ; Message 1 \\nmsg2 db 10,13,\"8 bit no is:$\"       ; Message 2 \\n.code \\n.startup                           ; Initializes DS = Data Segment \\n \\n; Display msg1: \"Enter 8 bit no:\" \\nmov ah,09h \\nlea dx,msg1 \\nint 21h \\n \\n; Input first digit (high nibble) \\nmov ah,01h \\nint 21h            ; AL = ASCII input \\nsub al,30h         ; Convert ASCII to number (0–9) \\nmov cl,04h         ; Shift amount = 4 bits \\nshl al,cl          ; Shift left to make it high nibble \\nmov bl,al          ; Store in BL \\n; Input second digit (low nibble) \\nmov ah,01h \\nint 21h \\nsub al,30h         ; Convert ASCII to number \\nadd al,bl          ; Combine high and low nibble \\nmov bh,al          ; Store full 8-bit value in BH'),\n",
       " Document(metadata={'source': 'data\\\\a.pdf'}, page_content='; Display msg2: \"8 bit no is:\" \\nmov ah,09h \\nlea dx,msg2 \\nint 21h \\n \\n; Extract and print high nibble \\nmov bl,bh \\nand bl,0f0h        ; Mask low nibble \\nshr bl,cl          ; Shift high nibble to lower bits \\nadd bl,30h         ; Convert to ASCII (\\'0\\'-\\'9\\') \\nmov dl,bl \\nmov ah,02h \\nint 21h            ; Print high nibble \\n \\n; Extract and print low nibble \\nmov bl,bh \\nand bl,0fh         ; Mask high nibble \\nadd bl,30h         ; Convert to ASCII (\\'0\\'-\\'9\\') \\nmov dl,bl \\nmov ah,02h \\nint 21h            ; Print low nibble \\n.exit              ; Terminate program \\nEnd \\n2) Explanation for displaying 16 bit number: \\n; 8086 Assembly: Read a 16-bit hex number (only digits 0–9) and display it \\n.model small \\n.data \\nmsg1 dw 10,13,\"Enter 16 bit no:$\"   ; Prompt message \\nmsg2 dw 10,13,\"16 bit no is:$\"      ; Output message \\n.code \\n.startup                            ; Sets DS = @data automatically \\n; ----- Print prompt message ----- \\nmov ah,09h \\nlea dx,msg1 \\nint 21h \\n; ----- Read first hex digit (high nibble of high byte) ----- \\nmov ah,01h \\nint 21h \\nsub al,30h              ; Convert ASCII to numeric \\nmov cl,04h \\nshl al,cl               ; Shift left to make high nibble \\nmov bh,al               ; Store in BH temporarily \\n; ----- Read second hex digit (low nibble of high byte) ----- \\nmov ah,01h \\nint 21h'),\n",
       " Document(metadata={'source': 'data\\\\a.pdf'}, page_content=\"sub al,30h \\nadd bh,al               ; Combine to form full high byte (BH) \\n; ----- Read third hex digit (high nibble of low byte) ----- \\nmov ah,01h \\nint 21h \\nsub al,30h \\nmov cl,04h \\nshl al,cl               ; Shift left to make high nibble \\nmov bl,al               ; Store in BL temporarily \\n; ----- Read fourth hex digit (low nibble of low byte) ----- \\nmov ah,01h \\nint 21h \\nsub al,30h \\nadd bl,al               ; Combine to form full low byte (BL) \\n; ----- Print output message ----- \\nmov ah,09h \\nlea dx,msg2 \\nint 21h \\n; ----- Display high byte (BH) ----- \\nmov ch,bh \\nand ch,0f0h             ; Mask low nibble \\nmov cl,04h \\nshr ch,cl               ; Shift high nibble to right \\nadd ch,30h              ; Convert to ASCII ('0'-'9') \\nmov dl,ch \\nmov ah,02h \\nint 21h                 ; Display high nibble of BH \\nmov ch,bh \\nand ch,0fh              ; Mask high nibble \\nadd ch,30h              ; Convert to ASCII \\nmov dl,ch \\nmov ah,02h \\nint 21h                 ; Display low nibble of BH \\n; ----- Display low byte (BL) ----- \\nmov dh,bl \\nand dh,0f0h             ; Mask low nibble \\nmov cl,04h \\nshr dh,cl               ; Shift high nibble to right \\nadd dh,30h              ; Convert to ASCII \\nmov dl,dh \\nmov ah,02h \\nint 21h                 ; Display high nibble of BL \\nmov dh,bl \\nand dh,0fh              ; Mask high nibble \\nadd dh,30h              ; Convert to ASCII \\nmov dl,dh\"),\n",
       " Document(metadata={'source': 'data\\\\a.pdf'}, page_content='mov ah,02h \\nint 21h                 ; Display low nibble of BL \\n.exit                   ; Exit to DOS \\nEnd \\nResult and Discussion:  \\n1) For 8 bit no:'),\n",
       " Document(metadata={'source': 'data\\\\a.pdf'}, page_content='2) For 16 bit number:'),\n",
       " Document(metadata={'source': 'data\\\\a.pdf'}, page_content='Learning Outcomes: \\n \\nThe student should have the ability to  \\nLO1 List the features of Assembly language. \\nLO2 Identify the role of translator in programming language. \\nLO3 List and define the assemble directives. \\nLO4 Implement a basic program using assembly language features. \\n \\nCourse Outcomes : Upon completion of the course students will be able to make use of \\ninstructions of 8086 to build assembly and Mixed language programs. \\n \\nConclusion: \\n \\n \\n \\n \\n \\n \\n \\n \\n \\n \\n \\n \\n \\nFor Faculty Use \\nCorrection \\nParameters  \\nFormative \\nAssessment \\n[40%] \\nTimely completion \\nof Practical [ 40%] \\nAttendance /Learning \\nAttitude [20%] \\nMarks Obtained')]"
      ]
     },
     "execution_count": 16,
     "metadata": {},
     "output_type": "execute_result"
    }
   ],
   "source": [
    "minimal_docs=filter_to_minimal_docs(extracted_text)\n",
    "minimal_docs"
   ]
  },
  {
   "cell_type": "code",
   "execution_count": null,
   "id": "ad8cbcd1",
   "metadata": {},
   "outputs": [],
   "source": [
    "def text_split(minimal_docs):\n",
    "    text_splitter = RecursiveCharacterTextSplitter(\n",
    "        chunk_size = 500,\n",
    "        chunk_overlap = 20\n",
    "    )\n",
    "\n",
    "    text_chunk = text_splitter.split_documents(minimal_docs)\n",
    "    return texts_chunk"
   ]
  },
  {
   "cell_type": "code",
   "execution_count": 21,
   "id": "3aeff3da",
   "metadata": {},
   "outputs": [
    {
     "data": {
      "text/plain": [
       "22"
      ]
     },
     "execution_count": 21,
     "metadata": {},
     "output_type": "execute_result"
    }
   ],
   "source": [
    "text_chunks = text_split(minimal_docs)\n",
    "len(text_chunks)"
   ]
  },
  {
   "cell_type": "code",
   "execution_count": 24,
   "id": "4fe50632",
   "metadata": {},
   "outputs": [],
   "source": [
    "from langchain.embeddings import HuggingFaceEmbeddings\n",
    "def download_embeddings():\n",
    "    \"\"\"\n",
    "    Download and return the HuggingFace embeddings model.\n",
    "    \"\"\"\n",
    "    model_name = \"sentence-transformers/all-MiniLM-L6-v2\"\n",
    "    embeddings = HuggingFaceEmbeddings(\n",
    "        model_name= model_name\n",
    "        )\n",
    "    return embeddings\n",
    "embedding = download_embeddings()"
   ]
  },
  {
   "cell_type": "code",
   "execution_count": 25,
   "id": "626968c0",
   "metadata": {},
   "outputs": [
    {
     "data": {
      "text/plain": [
       "HuggingFaceEmbeddings(client=SentenceTransformer(\n",
       "  (0): Transformer({'max_seq_length': 256, 'do_lower_case': False}) with Transformer model: BertModel \n",
       "  (1): Pooling({'word_embedding_dimension': 384, 'pooling_mode_cls_token': False, 'pooling_mode_mean_tokens': True, 'pooling_mode_max_tokens': False, 'pooling_mode_mean_sqrt_len_tokens': False, 'pooling_mode_weightedmean_tokens': False, 'pooling_mode_lasttoken': False, 'include_prompt': True})\n",
       "  (2): Normalize()\n",
       "), model_name='sentence-transformers/all-MiniLM-L6-v2', cache_folder=None, model_kwargs={}, encode_kwargs={}, multi_process=False, show_progress=False)"
      ]
     },
     "execution_count": 25,
     "metadata": {},
     "output_type": "execute_result"
    }
   ],
   "source": [
    "embedding"
   ]
  },
  {
   "cell_type": "code",
   "execution_count": 26,
   "id": "4d1e9baf",
   "metadata": {},
   "outputs": [
    {
     "data": {
      "text/plain": [
       "[-0.06277173012495041,\n",
       " 0.0549587644636631,\n",
       " 0.052164845168590546,\n",
       " 0.08579001575708389,\n",
       " -0.0827489048242569,\n",
       " -0.07457298785448074,\n",
       " 0.06855474412441254,\n",
       " 0.018396401777863503,\n",
       " -0.08201131224632263,\n",
       " -0.03738486021757126,\n",
       " 0.01212488953024149,\n",
       " 0.003518301760777831,\n",
       " -0.004134277813136578,\n",
       " -0.043784454464912415,\n",
       " 0.021807288751006126,\n",
       " -0.005102697294205427,\n",
       " 0.019546590745449066,\n",
       " -0.04234873875975609,\n",
       " -0.11035966873168945,\n",
       " 0.005424531176686287,\n",
       " -0.05573474243283272,\n",
       " 0.028052419424057007,\n",
       " -0.023158712312579155,\n",
       " 0.028481345623731613,\n",
       " -0.05370963364839554,\n",
       " -0.052601564675569534,\n",
       " 0.033939216285943985,\n",
       " 0.04538865014910698,\n",
       " 0.0237184539437294,\n",
       " -0.0731208324432373,\n",
       " 0.054777760058641434,\n",
       " 0.017047306522727013,\n",
       " 0.08136036992073059,\n",
       " -0.00286271795630455,\n",
       " 0.011958097107708454,\n",
       " 0.07355853170156479,\n",
       " -0.09423743933439255,\n",
       " -0.0813620537519455,\n",
       " 0.040015410631895065,\n",
       " 0.0006922061438672245,\n",
       " -0.013393313623964787,\n",
       " -0.05453810095787048,\n",
       " 0.005151402670890093,\n",
       " -0.026139816269278526,\n",
       " 0.03680708631873131,\n",
       " -0.033959608525037766,\n",
       " 0.02109321393072605,\n",
       " 0.055948905646800995,\n",
       " 0.05778134614229202,\n",
       " -0.0054184128530323505,\n",
       " -0.06841317564249039,\n",
       " -0.09023699164390564,\n",
       " -0.04286670684814453,\n",
       " 0.0236526969820261,\n",
       " 0.12149359285831451,\n",
       " 0.032392844557762146,\n",
       " -0.0226594265550375,\n",
       " -0.023281719535589218,\n",
       " 0.04886598512530327,\n",
       " -0.05935158580541611,\n",
       " -0.03406604379415512,\n",
       " 0.03596259281039238,\n",
       " -0.08115783333778381,\n",
       " -0.021979473531246185,\n",
       " 0.013187852688133717,\n",
       " -0.045855533331632614,\n",
       " -0.07041983306407928,\n",
       " -0.05260327830910683,\n",
       " -0.04802926629781723,\n",
       " -0.07454614341259003,\n",
       " -0.028731759637594223,\n",
       " 0.0128318527713418,\n",
       " -0.04292169213294983,\n",
       " 0.0053663188591599464,\n",
       " -0.03909758850932121,\n",
       " 0.015919340774416924,\n",
       " 0.020243534818291664,\n",
       " 0.005266707390546799,\n",
       " 0.009581328369677067,\n",
       " -0.004767622333019972,\n",
       " 0.04808773100376129,\n",
       " -0.0730966329574585,\n",
       " -0.050344448536634445,\n",
       " 0.009653035551309586,\n",
       " 0.013496561907231808,\n",
       " 0.00043033232213929296,\n",
       " 0.019725166261196136,\n",
       " 0.062495503574609756,\n",
       " -0.0182272270321846,\n",
       " 0.03109716810286045,\n",
       " -0.08885389566421509,\n",
       " 0.04813243821263313,\n",
       " 0.026074258610606194,\n",
       " -0.011494047939777374,\n",
       " -0.09936174005270004,\n",
       " -0.027338214218616486,\n",
       " 0.07621528208255768,\n",
       " -0.002096540993079543,\n",
       " -0.12358872592449188,\n",
       " 0.29806533455848694,\n",
       " 0.05630635842680931,\n",
       " 0.07848010212182999,\n",
       " 0.0110435476526618,\n",
       " 0.05240011587738991,\n",
       " -0.0011880270903930068,\n",
       " 0.0009656445472501218,\n",
       " -0.05432727932929993,\n",
       " 0.02676474116742611,\n",
       " -0.012194261886179447,\n",
       " 0.010717065073549747,\n",
       " -3.712927355081774e-05,\n",
       " -0.03556570038199425,\n",
       " -0.03208555653691292,\n",
       " 0.0161687470972538,\n",
       " 0.08674974739551544,\n",
       " 0.018139461055397987,\n",
       " -0.011017546989023685,\n",
       " 0.04974036291241646,\n",
       " 0.022581033408641815,\n",
       " -2.2354539396474138e-05,\n",
       " 0.014939067885279655,\n",
       " -0.011176228523254395,\n",
       " 0.005659312941133976,\n",
       " -0.004114850424230099,\n",
       " 0.0031825879123061895,\n",
       " 0.02386496588587761,\n",
       " 0.018051112070679665,\n",
       " -5.850475056976865e-33,\n",
       " 0.056107014417648315,\n",
       " -0.034498509019613266,\n",
       " 0.033111825585365295,\n",
       " 0.1677229404449463,\n",
       " -0.03103814274072647,\n",
       " -0.004835353698581457,\n",
       " -0.06106499582529068,\n",
       " -0.06271103769540787,\n",
       " 0.0274265855550766,\n",
       " 0.06364013999700546,\n",
       " 0.043340470641851425,\n",
       " 0.06082930788397789,\n",
       " -0.018160833045840263,\n",
       " 0.04280409589409828,\n",
       " 0.019024116918444633,\n",
       " 0.08797786384820938,\n",
       " -0.03913285210728645,\n",
       " 0.04414266347885132,\n",
       " -0.0049410490319132805,\n",
       " 0.05105269327759743,\n",
       " -0.054319143295288086,\n",
       " 0.011173095554113388,\n",
       " 0.02669907733798027,\n",
       " 0.07509661465883255,\n",
       " 0.04869014024734497,\n",
       " -0.04354274272918701,\n",
       " 0.013338680379092693,\n",
       " -0.10262985527515411,\n",
       " 0.05215664207935333,\n",
       " 0.02223239839076996,\n",
       " -0.029741793870925903,\n",
       " -0.042270686477422714,\n",
       " 0.022984575480222702,\n",
       " 0.03957443684339523,\n",
       " 0.00909477286040783,\n",
       " 0.020864717662334442,\n",
       " 0.005092666484415531,\n",
       " -0.06276412308216095,\n",
       " -0.05021766945719719,\n",
       " -0.005224995780736208,\n",
       " -0.05349817872047424,\n",
       " 0.029773445799946785,\n",
       " 0.021753663197159767,\n",
       " -0.02067805454134941,\n",
       " 0.023866182193160057,\n",
       " 0.005806651897728443,\n",
       " -0.0012138135498389602,\n",
       " 0.022660283371806145,\n",
       " 0.003156747203320265,\n",
       " 0.030960440635681152,\n",
       " -0.05296807363629341,\n",
       " 0.01867695525288582,\n",
       " -0.1401534080505371,\n",
       " 0.041478194296360016,\n",
       " -0.010278234258294106,\n",
       " -0.011593139730393887,\n",
       " -0.033458270132541656,\n",
       " -0.050588954240083694,\n",
       " 0.04686786234378815,\n",
       " 0.024715112522244453,\n",
       " 0.03349683806300163,\n",
       " 0.11170762777328491,\n",
       " -0.04034864902496338,\n",
       " -0.004284505732357502,\n",
       " -0.08074367046356201,\n",
       " -0.05611221864819527,\n",
       " 0.03833862394094467,\n",
       " 0.01150835957378149,\n",
       " 0.06873796135187149,\n",
       " -0.038117386400699615,\n",
       " -0.04598831757903099,\n",
       " -0.01643962599337101,\n",
       " 0.024413004517555237,\n",
       " 0.011722050607204437,\n",
       " 0.00816850084811449,\n",
       " 0.03903692215681076,\n",
       " 0.026186561211943626,\n",
       " 0.010481861419975758,\n",
       " 0.04286015406250954,\n",
       " -0.04638153314590454,\n",
       " 0.00648107472807169,\n",
       " 0.044423412531614304,\n",
       " -0.01883760094642639,\n",
       " 0.00726338941603899,\n",
       " 0.05617953836917877,\n",
       " 0.05347800627350807,\n",
       " -0.021483758464455605,\n",
       " -0.08448569476604462,\n",
       " -0.012813977897167206,\n",
       " -0.03947556018829346,\n",
       " -0.05802653729915619,\n",
       " 0.03133397921919823,\n",
       " 0.045417316257953644,\n",
       " 0.011839071288704872,\n",
       " -0.017906269058585167,\n",
       " 4.586215821646125e-33,\n",
       " 0.13150787353515625,\n",
       " 0.07932813465595245,\n",
       " -0.09495952725410461,\n",
       " -0.02447216771543026,\n",
       " -0.055816251784563065,\n",
       " -0.009145272895693779,\n",
       " -0.0320904478430748,\n",
       " 0.11379314959049225,\n",
       " -0.14441624283790588,\n",
       " 0.008509601466357708,\n",
       " 0.030667031183838844,\n",
       " -0.012414862401783466,\n",
       " 0.0701705738902092,\n",
       " 0.02817986160516739,\n",
       " 0.04082208499312401,\n",
       " 0.019590819254517555,\n",
       " 0.14295044541358948,\n",
       " 0.056870024651288986,\n",
       " -0.040122102946043015,\n",
       " -0.017843907698988914,\n",
       " -0.06138443946838379,\n",
       " 0.0008760879863984883,\n",
       " -0.05490618571639061,\n",
       " -0.007102535106241703,\n",
       " -0.0004941355437040329,\n",
       " -0.013119403272867203,\n",
       " -0.002266930416226387,\n",
       " 0.05856670066714287,\n",
       " -0.09971511363983154,\n",
       " -0.025532430037856102,\n",
       " 0.07856465131044388,\n",
       " 0.02051764912903309,\n",
       " -0.004633400123566389,\n",
       " 0.030302628874778748,\n",
       " 0.016833225265145302,\n",
       " 0.09143754839897156,\n",
       " 0.01676972582936287,\n",
       " -0.07980290055274963,\n",
       " 0.0425102598965168,\n",
       " -0.0843973383307457,\n",
       " -0.023859087377786636,\n",
       " 0.047019463032484055,\n",
       " 0.0024148474913090467,\n",
       " 0.10931780189275742,\n",
       " -0.03390533849596977,\n",
       " -0.06402090936899185,\n",
       " -0.03772387281060219,\n",
       " 0.029074784368276596,\n",
       " -0.04244937375187874,\n",
       " 0.01586185023188591,\n",
       " -0.09060656279325485,\n",
       " -0.05576628819108009,\n",
       " 0.022608766332268715,\n",
       " 0.008000332862138748,\n",
       " -0.02246997505426407,\n",
       " 0.02205822430551052,\n",
       " -0.025199124589562416,\n",
       " 0.030339578166604042,\n",
       " 0.010110809467732906,\n",
       " -0.01854734681546688,\n",
       " 0.016989566385746002,\n",
       " 0.0763101875782013,\n",
       " 0.04162060469388962,\n",
       " 0.08752062171697617,\n",
       " -0.012092730961740017,\n",
       " 0.03113516978919506,\n",
       " -0.03219042718410492,\n",
       " 0.012797941453754902,\n",
       " 0.01353873498737812,\n",
       " -0.029752405360341072,\n",
       " 0.036789849400520325,\n",
       " -0.005846101325005293,\n",
       " -0.011055554263293743,\n",
       " 0.03867030143737793,\n",
       " -0.020741472020745277,\n",
       " -0.011265105567872524,\n",
       " -0.02376755326986313,\n",
       " -0.009984567761421204,\n",
       " -0.02310844510793686,\n",
       " 0.012011406011879444,\n",
       " -0.010644480586051941,\n",
       " 0.051360610872507095,\n",
       " -0.027734074741601944,\n",
       " -0.00021134450798854232,\n",
       " 0.0009463377646170557,\n",
       " -0.03158261999487877,\n",
       " 0.05122935026884079,\n",
       " 0.044328607618808746,\n",
       " -0.0037734610959887505,\n",
       " -0.041668057441711426,\n",
       " 0.028954552486538887,\n",
       " 0.03306134417653084,\n",
       " -0.015184283256530762,\n",
       " -0.00015766856085974723,\n",
       " -0.044124361127614975,\n",
       " -1.480350064753111e-08,\n",
       " -0.008695917204022408,\n",
       " 0.00013005753862671554,\n",
       " 0.016471119597554207,\n",
       " 0.05922887474298477,\n",
       " 0.045538775622844696,\n",
       " 0.03312687575817108,\n",
       " -0.09335853904485703,\n",
       " -0.039027176797389984,\n",
       " -0.020656125620007515,\n",
       " 0.012607509270310402,\n",
       " 0.06953948736190796,\n",
       " 0.07919185608625412,\n",
       " -0.07191088050603867,\n",
       " -0.0047850715927779675,\n",
       " 0.08800474554300308,\n",
       " 0.04758850112557411,\n",
       " -0.05219274386763573,\n",
       " -0.007525520399212837,\n",
       " -0.05771182104945183,\n",
       " -0.0929584726691246,\n",
       " -0.004501525312662125,\n",
       " 0.0011780374916270375,\n",
       " 0.024447262287139893,\n",
       " -0.06403961777687073,\n",
       " -0.0032274764962494373,\n",
       " -0.02796536311507225,\n",
       " -0.03540759161114693,\n",
       " 0.025036675855517387,\n",
       " -0.009852766990661621,\n",
       " 0.013252392411231995,\n",
       " 0.0011385222896933556,\n",
       " 0.17805428802967072,\n",
       " -0.03614629805088043,\n",
       " -0.007625881116837263,\n",
       " -0.03220122680068016,\n",
       " -0.04229327291250229,\n",
       " 0.0047744992189109325,\n",
       " 0.02853182516992092,\n",
       " 0.07472299039363861,\n",
       " -0.014894162304699421,\n",
       " -0.05622069910168648,\n",
       " 0.02723579853773117,\n",
       " -0.011199408210814,\n",
       " -0.1016678661108017,\n",
       " -0.019529256969690323,\n",
       " 0.02724650502204895,\n",
       " 0.035081006586551666,\n",
       " -0.08160567283630371,\n",
       " -0.001337797730229795,\n",
       " -0.07635194808244705,\n",
       " -0.03995738923549652,\n",
       " 0.04078191891312599,\n",
       " 0.06012868508696556,\n",
       " 0.07254578918218613,\n",
       " 0.069675013422966,\n",
       " 0.08909130096435547,\n",
       " 0.01595780812203884,\n",
       " -0.01487351767718792,\n",
       " -0.04674159362912178,\n",
       " -0.01341127511113882,\n",
       " 0.06513477861881256,\n",
       " 0.05090593919157982,\n",
       " 0.051483530551195145,\n",
       " 0.007092153187841177]"
      ]
     },
     "execution_count": 26,
     "metadata": {},
     "output_type": "execute_result"
    }
   ],
   "source": [
    "vector = embedding.embed_query(\"Hello\")\n",
    "vector"
   ]
  },
  {
   "cell_type": "code",
   "execution_count": 27,
   "id": "001bb9b4",
   "metadata": {},
   "outputs": [
    {
     "data": {
      "text/plain": [
       "384"
      ]
     },
     "execution_count": 27,
     "metadata": {},
     "output_type": "execute_result"
    }
   ],
   "source": [
    "len(vector)"
   ]
  },
  {
   "cell_type": "code",
   "execution_count": 28,
   "id": "848f5522",
   "metadata": {},
   "outputs": [
    {
     "data": {
      "text/plain": [
       "True"
      ]
     },
     "execution_count": 28,
     "metadata": {},
     "output_type": "execute_result"
    }
   ],
   "source": [
    "from dotenv import load_dotenv\n",
    "import os\n",
    "load_dotenv()"
   ]
  },
  {
   "cell_type": "code",
   "execution_count": 29,
   "id": "5b41be64",
   "metadata": {},
   "outputs": [],
   "source": [
    "PINECONE_API_KEY = os.getenv(\"PINECONE_API_KEY\")\n",
    "GEMINI_API_KEY = os.getenv(\"GEMINI_API_KEY\") \n",
    "\n",
    "os.environ[\"PINECONE_API_KEY\"] = PINECONE_API_KEY\n",
    "os.environ[\"GEMINI_API_KEY\"] = GEMINI_API_KEY"
   ]
  },
  {
   "cell_type": "code",
   "execution_count": 30,
   "id": "e5e1f875",
   "metadata": {},
   "outputs": [
    {
     "data": {
      "text/plain": [
       "<pinecone.pinecone.Pinecone at 0x16bca0abe50>"
      ]
     },
     "execution_count": 30,
     "metadata": {},
     "output_type": "execute_result"
    }
   ],
   "source": [
    "from pinecone import Pinecone\n",
    "pc = Pinecone(api_key = PINECONE_API_KEY )\n",
    "pc"
   ]
  },
  {
   "cell_type": "code",
   "execution_count": 33,
   "id": "19260bc7",
   "metadata": {},
   "outputs": [],
   "source": [
    "from pinecone import ServerlessSpec\n",
    "index_name = \"medical-chatbot\"\n",
    "if not pc.has_index(index_name):\n",
    "    pc.create_index(\n",
    "        name = index_name,\n",
    "        dimension=384, \n",
    "        metric=\"cosine\" ,# Cosine similarity\n",
    "        spec=ServerlessSpec (cloud=\"aws\", region=\"us-east-1\")\n",
    ")\n",
    "index = pc.Index(index_name)"
   ]
  },
  {
   "cell_type": "code",
   "execution_count": 34,
   "id": "801aa107",
   "metadata": {},
   "outputs": [],
   "source": [
    "from langchain_pinecone import PineconeVectorStore\n",
    "\n",
    "docsearch = PineconeVectorStore.from_documents(\n",
    "    documents = text_chunks,\n",
    "    embedding = embedding,\n",
    "    index_name = index_name\n",
    ")"
   ]
  },
  {
   "cell_type": "code",
   "execution_count": 35,
   "id": "79d624dc",
   "metadata": {},
   "outputs": [],
   "source": [
    "from langchain_pinecone import PineconeVectorStore\n",
    "\n",
    "docsearch = PineconeVectorStore.from_existing_index(\n",
    "    embedding = embedding,\n",
    "    index_name = index_name\n",
    ")"
   ]
  },
  {
   "cell_type": "code",
   "execution_count": 39,
   "id": "d4ba1b55",
   "metadata": {},
   "outputs": [],
   "source": [
    "random_data = Document(\n",
    "    page_content = \"I hate coding\",\n",
    "    metadata = {\"source\":\"googly\"}\n",
    ")"
   ]
  },
  {
   "cell_type": "code",
   "execution_count": 40,
   "id": "42a965d2",
   "metadata": {},
   "outputs": [
    {
     "data": {
      "text/plain": [
       "['acb65334-4ed0-4492-9c3c-9db457edc62e']"
      ]
     },
     "execution_count": 40,
     "metadata": {},
     "output_type": "execute_result"
    }
   ],
   "source": [
    "docsearch.add_documents([random_data])"
   ]
  },
  {
   "cell_type": "code",
   "execution_count": 102,
   "id": "a7dd9dac",
   "metadata": {},
   "outputs": [
    {
     "data": {
      "text/plain": [
       "[Document(id='4f185146-33bb-4be8-9412-31127bff4546', metadata={'source': 'data\\\\a.pdf'}, page_content='shown below: \\n__ g ; complete execution of program in single step. \\n__ t ; Stepwise execution. \\n__d ds: starting address or ending address ; To see data in memory locations \\n__p; Used to execute interrupt or procedure during stepwise execution of program \\n__ q ; To quit the execution. \\n \\n5. Procedure/ Algorithm \\nProgram to accept 8 bit number and display 8 bit number  \\nExplanation: Conversions from ASCII to binary usually start with keyboard data entry. If a single'),\n",
       " Document(id='84714dd0-d5d8-4b90-93a9-268076bfe5e3', metadata={'source': 'data\\\\a.pdf'}, page_content='ENDS…………used to indicate the end of the segment. \\nEND…………. used to indicate the end of program. \\nPROC……........used to indicate the beginning of a procedure. \\nENDP……….. .used to indicate the end of a program.  \\nENDM………. used to indicate the end of a program.  \\nSEGMENT…...used to indicate the start of the segment. \\nTITLE…………used to indicate the title of the program. \\nEQU …………..used to give a name to some value or to a symbol. Each time the assembler'),\n",
       " Document(id='319c729a-b22e-418d-b1c9-ef904527fcba', metadata={'source': 'data\\\\a.pdf'}, page_content='Learning Outcomes: \\n \\nThe student should have the ability to  \\nLO1 List the features of Assembly language. \\nLO2 Identify the role of translator in programming language. \\nLO3 List and define the assemble directives. \\nLO4 Implement a basic program using assembly language features. \\n \\nCourse Outcomes : Upon completion of the course students will be able to make use of \\ninstructions of 8086 to build assembly and Mixed language programs. \\n \\nConclusion: \\n \\n \\n \\n \\n \\n \\n \\n \\n \\n \\n \\n \\n \\nFor Faculty Use')]"
      ]
     },
     "execution_count": 102,
     "metadata": {},
     "output_type": "execute_result"
    }
   ],
   "source": [
    "retriever = docsearch.as_retriever(search_type=\"similarity\",search_kwargs={\"k\":3})\n",
    "retrieved_doc = retriever.invoke(\"What is procedure\")\n",
    "retrieved_doc"
   ]
  },
  {
   "cell_type": "code",
   "execution_count": 115,
   "id": "bf5e73be",
   "metadata": {},
   "outputs": [],
   "source": [
    "import os\n",
    "from langchain_google_genai import ChatGoogleGenerativeAI\n",
    "\n",
    "chatModel = ChatGoogleGenerativeAI(\n",
    "    model=\"gemini-1.5-flash\",\n",
    "    google_api_key=os.getenv(\"GEMINI_API_KEY\")\n",
    "  )\n"
   ]
  },
  {
   "cell_type": "code",
   "execution_count": 117,
   "id": "91754ed7",
   "metadata": {},
   "outputs": [],
   "source": [
    "from langchain.chains import create_retrieval_chain\n",
    "from langchain.chains.combine_documents import create_stuff_documents_chain\n",
    "from langchain_core.prompts import ChatPromptTemplate\n",
    "\n",
    "prompt = ChatPromptTemplate.from_template(\"Answer based on context:\\n{context}\\n\\nQuestion: {input}\")\n",
    "document_chain = create_stuff_documents_chain(chatModel, prompt)\n",
    "retrieval_chain = create_retrieval_chain(retriever, document_chain)\n"
   ]
  },
  {
   "cell_type": "code",
   "execution_count": null,
   "id": "3864cceb",
   "metadata": {},
   "outputs": [],
   "source": [
    "system_prompt = (\n",
    "    \"You are an assistant for question-answering tasks. \"\n",
    "    \"If you gets the related content then try to brief it more in detail adding more info.\"\n",
    "    \"Use the retrieved context to answer the question as best as possible. \"\n",
    "    \"If the context seems partially relevant, try to summarize it. \"\n",
    "    \"If you still don’t find anything useful, then say 'I don’t know.' \"\n",
    "    \"\\n\\nContext:\\n{context}\"\n",
    ")\n",
    "\n",
    "prompt = ChatPromptTemplate.from_messages([\n",
    "    (\"system\", system_prompt),\n",
    "    (\"human\", \"{input}\"),\n",
    "    ]\n",
    ")"
   ]
  },
  {
   "cell_type": "code",
   "execution_count": 120,
   "id": "7a0db398",
   "metadata": {},
   "outputs": [],
   "source": [
    "qa = create_stuff_documents_chain(chatModel,prompt)\n",
    "rag_chain = create_retrieval_chain(retriever , qa)"
   ]
  },
  {
   "cell_type": "code",
   "execution_count": 123,
   "id": "9df26688",
   "metadata": {},
   "outputs": [
    {
     "name": "stdout",
     "output_type": "stream",
     "text": [
      "The provided text gives snippets of 8086 assembly code for displaying numbers, but it's incomplete and lacks crucial parts for a full 16-bit number display.  It shows how to display a single character (low nibble) and mentions printing a prompt, but doesn't show how to handle the entire 16-bit number.  To display a 16-bit number, you need to break it down into individual digits (or nibbles), convert them to their ASCII representations, and then display each character sequentially.\n",
      "\n",
      "Here's a more complete example, though it still assumes input is restricted to digits 0-9 (not handling A-F for hexadecimal):\n",
      "\n",
      "\n",
      "```assembly\n",
      ".model small\n",
      ".stack 100h\n",
      "\n",
      ".data\n",
      "msg1 dw 10,13,\"Enter 16-bit number (0-9 only): $\"\n",
      "msg2 dw 10,13,\"The 16-bit number is: $\"\n",
      "num dw ? ; Variable to store the 16-bit number\n",
      "\n",
      ".code\n",
      "main proc\n",
      "    mov ax, @data\n",
      "    mov ds, ax\n",
      "\n",
      "    ; Display prompt message\n",
      "    mov ah, 09h\n",
      "    lea dx, msg1\n",
      "    int 21h\n",
      "\n",
      "    ; Read the 16-bit number (this part needs significant improvement for robustness)\n",
      "    mov bx, 0 ; Initialize BX to store the number\n",
      "    mov cx, 4 ; Read 4 digits (for a 16-bit number in decimal)\n",
      "\n",
      "read_loop:\n",
      "    mov ah, 01h  ; Read a character\n",
      "    int 21h\n",
      "    sub al, 30h  ; Convert ASCII to digit (0-9)\n",
      "    mov ah, 0    ; Clear AH\n",
      "    push ax       ; Save the digit on the stack\n",
      "    loop read_loop\n",
      "\n",
      "    ; Convert to 16-bit number (read from stack)\n",
      "    pop ax\n",
      "    mov num, ax\n",
      "    pop ax\n",
      "    mov dx, ax\n",
      "    mov ax, num\n",
      "    mov num, dx\n",
      "    add num, ax\n",
      "\n",
      "    ; Display output message\n",
      "    mov ah, 09h\n",
      "    lea dx, msg2\n",
      "    int 21h\n",
      "\n",
      "\n",
      "    ; Display the 16-bit number (this is a simplified example, needs improvement for larger numbers)\n",
      "\n",
      "    mov ax, num  ;  Number to display\n",
      "    call display_num\n",
      "\n",
      "    mov ah, 4ch\n",
      "    int 21h\n",
      "main endp\n",
      "\n",
      "display_num proc\n",
      "    push ax\n",
      "    push bx\n",
      "    push cx\n",
      "    push dx\n",
      "\n",
      "    mov bx, 10 ; Divisor for decimal conversion\n",
      "    mov cx, 0  ; Digit counter\n",
      "\n",
      "convert_loop:\n",
      "    cwd         ; Extend AX to DX:AX\n",
      "    div bx      ; Divide DX:AX by 10\n",
      "    push dx     ; Save remainder (digit) on stack\n",
      "    inc cx      ; Increment digit counter\n",
      "    cmp ax, 0   ; Check if quotient is zero\n",
      "    jne convert_loop\n",
      "\n",
      "\n",
      "display_loop:\n",
      "    pop dx      ; Retrieve digit from stack\n",
      "    add dl, 30h ; Convert digit to ASCII\n",
      "    mov ah, 02h ; Display character\n",
      "    mov dl, dl\n",
      "    int 21h\n",
      "    loop display_loop\n",
      "\n",
      "\n",
      "    pop dx\n",
      "    pop cx\n",
      "    pop bx\n",
      "    pop ax\n",
      "    ret\n",
      "display_num endp\n",
      "\n",
      "end main\n",
      "```\n",
      "\n",
      "**Important Considerations:**\n",
      "\n",
      "* **Error Handling:** This code lacks error handling.  It assumes the user enters exactly four digits.  A robust version would need to check for invalid input (non-numeric characters).\n",
      "* **Hexadecimal Support:**  The original snippets and this improved version only handle decimal digits (0-9).  To support hexadecimal (0-9, A-F), you'll need to modify the input and conversion logic to handle the letters A-F.\n",
      "* **Larger Numbers:**  For numbers larger than 9999 (the limit of this simple example), you'll need a more sophisticated algorithm to handle the conversion to ASCII and display.  You might use a recursive approach or a loop that repeatedly divides by 10.\n",
      "\n",
      "\n",
      "This improved example provides a more functional foundation, but remember to address the points mentioned above for a truly robust and complete solution.\n"
     ]
    }
   ],
   "source": [
    "resp = rag_chain.invoke({ \"input\": \"full code for displaying 16-bit number\" })\n",
    "print(resp[\"answer\"])\n",
    "   "
   ]
  }
 ],
 "metadata": {
  "kernelspec": {
   "display_name": "venv",
   "language": "python",
   "name": "python3"
  },
  "language_info": {
   "codemirror_mode": {
    "name": "ipython",
    "version": 3
   },
   "file_extension": ".py",
   "mimetype": "text/x-python",
   "name": "python",
   "nbconvert_exporter": "python",
   "pygments_lexer": "ipython3",
   "version": "3.11.4"
  }
 },
 "nbformat": 4,
 "nbformat_minor": 5
}
